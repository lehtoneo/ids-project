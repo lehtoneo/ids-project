{
 "cells": [
  {
   "cell_type": "code",
   "execution_count": 80,
   "id": "22932dc9",
   "metadata": {},
   "outputs": [],
   "source": [
    "import soundfile # to read audio file\n",
    "import numpy as np\n",
    "import pandas as pd\n",
    "import librosa # to extract speech features\n",
    "import glob\n",
    "import os\n",
    "import pickle \n",
    "import matplotlib.pyplot as plt\n",
    "from sklearn.model_selection import train_test_split \n",
    "\n",
    "import torch\n",
    "import torch.nn as nn\n",
    "import torch.nn.functional as F\n",
    "import torch.optim as optim"
   ]
  },
  {
   "cell_type": "code",
   "execution_count": 81,
   "id": "549ab7e2",
   "metadata": {},
   "outputs": [],
   "source": [
    "def extract_feature(file_name, **kwargs):\n",
    "    \"\"\"\n",
    "    Extract feature from audio file `file_name`\n",
    "        Features supported:\n",
    "            - MFCC (mfcc)\n",
    "            - Chroma (chroma)\n",
    "            - MEL Spectrogram Frequency (mel)\n",
    "            - Contrast (contrast)\n",
    "            - Tonnetz (tonnetz)\n",
    "        e.g:\n",
    "        `features = extract_feature(path, mel=True, mfcc=True)`\n",
    "    \"\"\"\n",
    "    mfcc = kwargs.get(\"mfcc\")\n",
    "    chroma = kwargs.get(\"chroma\")\n",
    "    mel = kwargs.get(\"mel\")\n",
    "    contrast = kwargs.get(\"contrast\")\n",
    "    tonnetz = kwargs.get(\"tonnetz\")\n",
    "    with soundfile.SoundFile(file_name) as sound_file:\n",
    "        X = sound_file.read(dtype=\"float32\")\n",
    "        if (len(X.shape) != 1):\n",
    "            return [None]\n",
    "        sample_rate = sound_file.samplerate\n",
    "        if chroma or contrast:\n",
    "            stft = np.abs(librosa.stft(X))\n",
    "        result = np.array([])\n",
    "        if mfcc:\n",
    "            mfccs = np.mean(librosa.feature.mfcc(y=X, sr=sample_rate, n_mfcc=40).T, axis=0)\n",
    "            result = np.hstack((result, mfccs))\n",
    "        if chroma:\n",
    "            chroma = np.mean(librosa.feature.chroma_stft(S=stft, sr=sample_rate).T,axis=0)\n",
    "            result = np.hstack((result, chroma))\n",
    "        if mel:\n",
    "            mel = np.mean(librosa.feature.melspectrogram(X, sr=sample_rate).T,axis=0)\n",
    "            result = np.hstack((result, mel))\n",
    "        if contrast:\n",
    "            contrast = np.mean(librosa.feature.spectral_contrast(S=stft, sr=sample_rate).T,axis=0)\n",
    "            result = np.hstack((result, contrast))\n",
    "        if tonnetz:\n",
    "            tonnetz = np.mean(librosa.feature.tonnetz(y=librosa.effects.harmonic(X), sr=sample_rate).T,axis=0)\n",
    "            result = np.hstack((result, tonnetz))\n",
    "    return result"
   ]
  },
  {
   "cell_type": "code",
   "execution_count": 82,
   "id": "63e34d8b",
   "metadata": {},
   "outputs": [],
   "source": [
    "## codes in data\n",
    "int2emotion = {\n",
    "    \"01\": \"neutral\",\n",
    "    \"02\": \"calm\",\n",
    "    \"03\": \"happy\",\n",
    "    \"04\": \"sad\",\n",
    "    \"05\": \"angry\",\n",
    "    \"06\": \"fearful\",\n",
    "    \"07\": \"disgust\",\n",
    "    \"08\": \"surprised\"\n",
    "}\n",
    "\n",
    "# only files with these emotion labels are used\n",
    "emotions_dict ={\n",
    "    \"angry\": 0,\n",
    "    \"sad\": 1,\n",
    "    \"neutral\": 2,\n",
    "    \"happy\": 3\n",
    "}\n",
    "\n",
    "category_to_emotion = {}\n",
    "\n",
    "for key in emotions_dict.keys():\n",
    "    value = emotions_dict[key]\n",
    "    category_to_emotion[value] = key"
   ]
  },
  {
   "cell_type": "code",
   "execution_count": 83,
   "id": "7e93c28c",
   "metadata": {},
   "outputs": [],
   "source": [
    "def load_data(test_size=0.2, max_amount=10000):\n",
    "    i = 0\n",
    "    X, y = [], []\n",
    "    amount = 0\n",
    "    for file in glob.glob(\"ravdess/Audio*/Actor_*/*.wav\"):\n",
    "        if (amount >= max_amount):\n",
    "            break\n",
    "        \n",
    "        basename = os.path.basename(file)\n",
    "        \n",
    "        emotion = int2emotion[basename.split(\"-\")[2]]\n",
    "        allowed_emotions = emotions_dict.keys()\n",
    "        \n",
    "        if emotion not in allowed_emotions:\n",
    "            continue\n",
    "        emotion_category = emotions_dict[emotion]\n",
    "        \n",
    "        features = extract_feature(file, mfcc=True, chroma=True, mel=True)\n",
    "        \n",
    "        ## there seems to be some unusable data so lets get rid of those\n",
    "        if (features[0] == None):\n",
    "            continue\n",
    "        \n",
    "        \n",
    "            \n",
    "        X.append(features)\n",
    "        y.append(emotion_category)\n",
    "        amount = amount + 1\n",
    "        \n",
    "    return train_test_split(np.array(X), y, test_size=test_size, random_state=7)"
   ]
  },
  {
   "cell_type": "code",
   "execution_count": 84,
   "id": "7ba73665",
   "metadata": {},
   "outputs": [],
   "source": [
    "max_amount_of_data = 100\n",
    "X_train, X_test, y_train, y_test = load_data(test_size=0.25, max_amount=max_amount_of_data)"
   ]
  },
  {
   "cell_type": "code",
   "execution_count": 85,
   "id": "b88c6c89",
   "metadata": {},
   "outputs": [],
   "source": [
    "## make ready for pytorch\n",
    "X_train = X_train.astype(np.float32)\n",
    "X_test = X_test.astype(np.float32)\n",
    "\n",
    "\n",
    "y_train = np.asarray(y_train)\n",
    "y_train = y_train.astype(np.float32)\n",
    "y_test = np.asarray(y_test)\n",
    "y_test = y_test.astype(np.float32)\n",
    "\n",
    "X_train = torch.from_numpy(X_train).float()\n",
    "X_test = torch.from_numpy(X_test).float()\n",
    "                                          \n",
    "y_train = torch.from_numpy(y_train).long()\n",
    "y_test = torch.from_numpy(y_test).long()\n"
   ]
  },
  {
   "cell_type": "code",
   "execution_count": 86,
   "id": "b999e44c",
   "metadata": {},
   "outputs": [
    {
     "name": "stdout",
     "output_type": "stream",
     "text": [
      "[+] Number of training samples: 75\n",
      "[+] Number of testing samples: 25\n",
      "[+] Number of features: 180\n"
     ]
    }
   ],
   "source": [
    "print(\"[+] Number of training samples:\", X_train.shape[0])\n",
    "# number of samples in testing data\n",
    "print(\"[+] Number of testing samples:\", X_test.shape[0])\n",
    "# number of features used\n",
    "# this is a vector of features extracted \n",
    "# using extract_features() function\n",
    "print(\"[+] Number of features:\", X_train.shape[1])\n"
   ]
  },
  {
   "cell_type": "code",
   "execution_count": 87,
   "id": "2be44d98",
   "metadata": {},
   "outputs": [
    {
     "name": "stdout",
     "output_type": "stream",
     "text": [
      "[+] X_train first value's first 5 values tensor([-614.5449,   65.8200,  -26.8686,    3.0917,  -10.1031])\n",
      "[+] y_train first value tensor(1)\n"
     ]
    }
   ],
   "source": [
    "print(\"[+] X_train first value's first 5 values\", X_train[0][0:5])\n",
    "print(\"[+] y_train first value\", y_train[0])"
   ]
  },
  {
   "cell_type": "code",
   "execution_count": 88,
   "id": "c6e25ece",
   "metadata": {},
   "outputs": [
    {
     "name": "stdout",
     "output_type": "stream",
     "text": [
      "Using cpu device\n"
     ]
    }
   ],
   "source": [
    "DEVICE = 'cuda' if torch.cuda.is_available() else 'cpu'\n",
    "print('Using {} device'.format(DEVICE))"
   ]
  },
  {
   "cell_type": "code",
   "execution_count": 89,
   "id": "c806d238",
   "metadata": {},
   "outputs": [],
   "source": [
    "out = len(emotions_dict.keys())\n",
    "class NeuralNetwork(nn.Module):\n",
    "    def __init__(self):\n",
    "        super().__init__()\n",
    "        self.fc1 = nn.Linear(in_features=180, out_features=16)\n",
    "        self.fc2 = nn.Linear(in_features=16, out_features=12)\n",
    "        self.output = nn.Linear(in_features=12, out_features=out)\n",
    " \n",
    "    def forward(self, x):\n",
    "        x = F.relu(self.fc1(x))\n",
    "        x = F.relu(self.fc2(x))\n",
    "        x = self.output(x)\n",
    "        return x"
   ]
  },
  {
   "cell_type": "code",
   "execution_count": 90,
   "id": "4da1e5eb",
   "metadata": {},
   "outputs": [
    {
     "name": "stdout",
     "output_type": "stream",
     "text": [
      "NeuralNetwork(\n",
      "  (fc1): Linear(in_features=180, out_features=16, bias=True)\n",
      "  (fc2): Linear(in_features=16, out_features=12, bias=True)\n",
      "  (output): Linear(in_features=12, out_features=4, bias=True)\n",
      ")\n"
     ]
    }
   ],
   "source": [
    "model = NeuralNetwork().to(DEVICE)\n",
    "print(model)"
   ]
  },
  {
   "cell_type": "code",
   "execution_count": 91,
   "id": "7d4d1fbc",
   "metadata": {},
   "outputs": [],
   "source": [
    "\n",
    "BATCH_SIZE = 65\n",
    "EPOCHS = 10\n",
    "LR = 0.01\n",
    "\n",
    "criterion = nn.CrossEntropyLoss()\n",
    "optimizer = torch.optim.Adam(model.parameters(), lr=LR)"
   ]
  },
  {
   "cell_type": "code",
   "execution_count": 92,
   "id": "2a375ed3",
   "metadata": {},
   "outputs": [
    {
     "data": {
      "text/plain": [
       "torch.Size([75, 180])"
      ]
     },
     "execution_count": 92,
     "metadata": {},
     "output_type": "execute_result"
    }
   ],
   "source": [
    "X_train.shape"
   ]
  },
  {
   "cell_type": "code",
   "execution_count": 93,
   "id": "4806d271",
   "metadata": {},
   "outputs": [],
   "source": [
    "epochs = 100\n",
    "loss_arr = []\n",
    "epoch_arr = []\n",
    "model.train()\n",
    "for i in range(epochs):\n",
    "    y_hat = model.forward(X_train)\n",
    "    loss = criterion(y_hat, y_train)\n",
    "    epoch_arr.append(i)\n",
    "    \n",
    "    loss_arr.append(loss.item())\n",
    " \n",
    "    optimizer.zero_grad()\n",
    "    loss.backward()\n",
    "    optimizer.step()"
   ]
  },
  {
   "cell_type": "code",
   "execution_count": 94,
   "id": "e5536806",
   "metadata": {},
   "outputs": [
    {
     "data": {
      "text/plain": [
       "Text(0.5, 0, 'Epoch number')"
      ]
     },
     "execution_count": 94,
     "metadata": {},
     "output_type": "execute_result"
    },
    {
     "data": {
      "image/png": "[encoded data removed]",
      "text/plain": [
       "<Figure size 432x288 with 1 Axes>"
      ]
     },
     "metadata": {
      "needs_background": "light"
     },
     "output_type": "display_data"
    }
   ],
   "source": [
    "\n",
    "plt.plot(epoch_arr, loss_arr)\n",
    "plt.ylabel('Loss')\n",
    "plt.xlabel('Epoch number')"
   ]
  },
  {
   "cell_type": "code",
   "execution_count": 95,
   "id": "8b074c5a",
   "metadata": {},
   "outputs": [],
   "source": [
    "## save model to file\n",
    "PATH = \"model.pt\"\n",
    "torch.save(model, PATH)\n"
   ]
  },
  {
   "cell_type": "code",
   "execution_count": 96,
   "id": "defa92f3",
   "metadata": {},
   "outputs": [
    {
     "data": {
      "text/plain": [
       "NeuralNetwork(\n",
       "  (fc1): Linear(in_features=180, out_features=16, bias=True)\n",
       "  (fc2): Linear(in_features=16, out_features=12, bias=True)\n",
       "  (output): Linear(in_features=12, out_features=4, bias=True)\n",
       ")"
      ]
     },
     "execution_count": 96,
     "metadata": {},
     "output_type": "execute_result"
    }
   ],
   "source": [
    "# load from file\n",
    "loaded_model = torch.load(PATH)\n",
    "loaded_model.eval()"
   ]
  },
  {
   "cell_type": "code",
   "execution_count": 97,
   "id": "2a4b94a8",
   "metadata": {},
   "outputs": [],
   "source": [
    "## make predictions using the loaded model\n",
    "preds = []\n",
    "with torch.no_grad():\n",
    "    for val in X_test:\n",
    "        y_hat = loaded_model.forward(val)\n",
    "        preds.append(y_hat.argmax().item())"
   ]
  },
  {
   "cell_type": "code",
   "execution_count": 98,
   "id": "eabe17c6",
   "metadata": {},
   "outputs": [],
   "source": [
    "df = pd.DataFrame({'Y_correct': y_test, 'Y_predicted': preds})\n",
    "df['Correct'] = [1 if corr == pred else 0 for corr, pred in zip(df['Y_correct'], df['Y_predicted'])]"
   ]
  },
  {
   "cell_type": "code",
   "execution_count": 99,
   "id": "8e0a7f4a",
   "metadata": {},
   "outputs": [
    {
     "data": {
      "text/html": [
       "<div>\n",
       "<style scoped>\n",
       "    .dataframe tbody tr th:only-of-type {\n",
       "        vertical-align: middle;\n",
       "    }\n",
       "\n",
       "    .dataframe tbody tr th {\n",
       "        vertical-align: top;\n",
       "    }\n",
       "\n",
       "    .dataframe thead th {\n",
       "        text-align: right;\n",
       "    }\n",
       "</style>\n",
       "<table border=\"1\" class=\"dataframe\">\n",
       "  <thead>\n",
       "    <tr style=\"text-align: right;\">\n",
       "      <th></th>\n",
       "      <th>Y_correct</th>\n",
       "      <th>Y_predicted</th>\n",
       "      <th>Correct</th>\n",
       "    </tr>\n",
       "  </thead>\n",
       "  <tbody>\n",
       "    <tr>\n",
       "      <th>0</th>\n",
       "      <td>3</td>\n",
       "      <td>3</td>\n",
       "      <td>1</td>\n",
       "    </tr>\n",
       "    <tr>\n",
       "      <th>1</th>\n",
       "      <td>0</td>\n",
       "      <td>0</td>\n",
       "      <td>1</td>\n",
       "    </tr>\n",
       "    <tr>\n",
       "      <th>2</th>\n",
       "      <td>0</td>\n",
       "      <td>0</td>\n",
       "      <td>1</td>\n",
       "    </tr>\n",
       "    <tr>\n",
       "      <th>3</th>\n",
       "      <td>3</td>\n",
       "      <td>3</td>\n",
       "      <td>1</td>\n",
       "    </tr>\n",
       "    <tr>\n",
       "      <th>4</th>\n",
       "      <td>0</td>\n",
       "      <td>0</td>\n",
       "      <td>1</td>\n",
       "    </tr>\n",
       "  </tbody>\n",
       "</table>\n",
       "</div>"
      ],
      "text/plain": [
       "   Y_correct  Y_predicted  Correct\n",
       "0          3            3        1\n",
       "1          0            0        1\n",
       "2          0            0        1\n",
       "3          3            3        1\n",
       "4          0            0        1"
      ]
     },
     "execution_count": 99,
     "metadata": {},
     "output_type": "execute_result"
    }
   ],
   "source": [
    "df.head()"
   ]
  },
  {
   "cell_type": "code",
   "execution_count": 100,
   "id": "ad4c61a3",
   "metadata": {},
   "outputs": [
    {
     "name": "stdout",
     "output_type": "stream",
     "text": [
      "Category 'angry' accuracy is 0.8571428571428571\n",
      "Category 'sad' accuracy is 0.875\n",
      "Category 'neutral' accuracy is 0.6666666666666666\n",
      "Category 'happy' accuracy is 0.8571428571428571\n"
     ]
    }
   ],
   "source": [
    "for category in category_to_emotion.keys():\n",
    "    category_results = df[df['Y_correct'] == category]\n",
    "    res = category_results['Correct'].sum() / len(category_results)\n",
    "    emotion = category_to_emotion[category]\n",
    "    to_print = f\"Category '{emotion}' accuracy is {res}\"\n",
    "    print(to_print)\n"
   ]
  },
  {
   "cell_type": "code",
   "execution_count": null,
   "id": "a7bdcd9c",
   "metadata": {},
   "outputs": [],
   "source": []
  }
 ],
 "metadata": {
  "kernelspec": {
   "display_name": "Python 3 (ipykernel)",
   "language": "python",
   "name": "python3"
  },
  "language_info": {
   "codemirror_mode": {
    "name": "ipython",
    "version": 3
   },
   "file_extension": ".py",
   "mimetype": "text/x-python",
   "name": "python",
   "nbconvert_exporter": "python",
   "pygments_lexer": "ipython3",
   "version": "3.9.7"
  }
 },
 "nbformat": 4,
 "nbformat_minor": 5
}
