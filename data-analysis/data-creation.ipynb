{
 "cells": [
  {
   "cell_type": "code",
   "execution_count": 45,
   "id": "8fdc2dd7",
   "metadata": {},
   "outputs": [],
   "source": [
    "import soundfile # to read audio file\n",
    "import numpy as np\n",
    "import pandas as pd\n",
    "import librosa # to extract speech features\n",
    "import glob\n",
    "import os\n",
    "import pickle \n",
    "import matplotlib.pyplot as plt\n",
    "from sklearn.model_selection import train_test_split \n",
    "\n",
    "import tensorflow as tf\n",
    "from tensorflow import keras\n",
    "from tensorflow.keras import layers\n",
    "from tensorflow.keras.utils import plot_model, to_categorical"
   ]
  },
  {
   "cell_type": "code",
   "execution_count": 46,
   "id": "a6849f0a",
   "metadata": {},
   "outputs": [],
   "source": [
    "splits_length_in_seconds = 3 # how long is one video split (in seconds)\n",
    "folder_containing_full_videos = \"youtube-videos/Essence-of-Calculus\" # all videos from this folder will be used to create dfs\n",
    "data_output_folder_name = \"prediction-data\" # output folder for .csv files\n",
    "model = keras.models.load_model(\"samuli_model\") # model used for predictions"
   ]
  },
  {
   "cell_type": "code",
   "execution_count": 47,
   "id": "d5ffc4fc",
   "metadata": {},
   "outputs": [],
   "source": [
    "# dont change\n",
    "emotions_dict ={\n",
    "    \"neutral\": 0,\n",
    "    \"happy\": 1,\n",
    "    \"angry\": 2,\n",
    "    \"sad\": 3,\n",
    "    \"fearful\": 4\n",
    "}\n",
    "\n",
    "category_to_emotion = {}\n",
    "\n",
    "for key in emotions_dict.keys():\n",
    "    value = emotions_dict[key]\n",
    "    category_to_emotion[value] = key\n",
    "\n",
    "feature_used = {\n",
    "    \"mfcc\": True,\n",
    "    \"chroma\": True,\n",
    "    \"mel\": True,\n",
    "    \"contrast\": False,\n",
    "    \"tonnetz\": False\n",
    "}"
   ]
  },
  {
   "cell_type": "markdown",
   "id": "be0e9eb4",
   "metadata": {},
   "source": [
    "# Create dfs and save them to csv"
   ]
  },
  {
   "cell_type": "code",
   "execution_count": 48,
   "id": "96af3412",
   "metadata": {},
   "outputs": [],
   "source": [
    "from pydub import AudioSegment\n",
    "from pydub.utils import mediainfo\n",
    "import math\n",
    "import shutil\n",
    "import matplotlib.pyplot as plt"
   ]
  },
  {
   "cell_type": "code",
   "execution_count": 49,
   "id": "b7a26a60",
   "metadata": {},
   "outputs": [],
   "source": [
    "\n",
    "def extract_feature(file_name):\n",
    "    \"\"\"\n",
    "    Extract feature from audio file `file_name`\n",
    "        Features supported:\n",
    "            - MFCC (mfcc)\n",
    "            - Chroma (chroma)\n",
    "            - MEL Spectrogram Frequency (mel)\n",
    "            - Contrast (contrast)\n",
    "            - Tonnetz (tonnetz)\n",
    "    \"\"\"\n",
    "    mfcc = feature_used[\"mfcc\"]\n",
    "    chroma = feature_used[\"chroma\"]\n",
    "    mel = feature_used[\"mel\"]\n",
    "    contrast = feature_used[\"contrast\"]\n",
    "    tonnetz = feature_used[\"tonnetz\"]\n",
    "    with soundfile.SoundFile(file_name) as sound_file:\n",
    "        X = sound_file.read(dtype=\"float32\")\n",
    "        if (len(X.shape) != 1):\n",
    "            if (X.shape[1] == 2):\n",
    "                X = X[:,0]\n",
    "            else:\n",
    "                return [None]\n",
    "        sample_rate = sound_file.samplerate\n",
    "        if chroma or contrast:\n",
    "            stft = np.abs(librosa.stft(X))\n",
    "        result = np.array([])\n",
    "        if mfcc:\n",
    "            mfccs = np.mean(librosa.feature.mfcc(y=X, sr=sample_rate, n_mfcc=40).T, axis=0)\n",
    "            result = np.hstack((result, mfccs))\n",
    "        if chroma:\n",
    "            chroma = np.mean(librosa.feature.chroma_stft(S=stft, sr=sample_rate).T,axis=0)\n",
    "            result = np.hstack((result, chroma))\n",
    "        if mel:\n",
    "            mel = np.mean(librosa.feature.melspectrogram(X, sr=sample_rate).T,axis=0)\n",
    "            result = np.hstack((result, mel))\n",
    "        if contrast:\n",
    "            contrast = np.mean(librosa.feature.spectral_contrast(S=stft, sr=sample_rate).T,axis=0)\n",
    "            result = np.hstack((result, contrast))\n",
    "        if tonnetz:\n",
    "            tonnetz = np.mean(librosa.feature.tonnetz(y=librosa.effects.harmonic(X), sr=sample_rate).T,axis=0)\n",
    "            result = np.hstack((result, tonnetz))\n",
    "    return result\n"
   ]
  },
  {
   "cell_type": "markdown",
   "id": "3221dc3f",
   "metadata": {},
   "source": [
    "## Create splits"
   ]
  },
  {
   "cell_type": "code",
   "execution_count": 50,
   "id": "1662a6ae",
   "metadata": {},
   "outputs": [],
   "source": [
    "def rm_folder(path):\n",
    "    try:\n",
    "        shutil.rmtree(path)\n",
    "    except:\n",
    "        None"
   ]
  },
  {
   "cell_type": "code",
   "execution_count": 51,
   "id": "cddbfe5f",
   "metadata": {},
   "outputs": [],
   "source": [
    "splits_length_seconds = splits_length_in_seconds\n",
    "\n",
    "for file in glob.glob(f\"{folder_containing_full_videos}/*.mp3\"):\n",
    "        file_splits = []\n",
    "        file_path = os.getcwd() + \"\\\\\" + file\n",
    "        basename = os.path.basename(file)\n",
    "        basename_without_ext = basename.split(\".\")[0]\n",
    "        split_folder_name = f\"{basename_without_ext}_split\"\n",
    "        sound = AudioSegment.from_file(file)\n",
    "        \n",
    "        parent_dir = os.getcwd() + f\"\\\\{folder_containing_full_videos}\"\n",
    "        path_to_splits = os.path.join(parent_dir, split_folder_name)\n",
    "        \n",
    "        rm_folder(path_to_splits)\n",
    "        os.mkdir(path_to_splits, 0o666)\n",
    "                 \n",
    "        i = 0\n",
    "        split_length_ms = splits_length_seconds * 1000\n",
    "        length = len(sound)\n",
    "        splits_amount = math.ceil(length/split_length_ms)\n",
    "        while (i < splits_amount):\n",
    "            start_time = i * splits_length_seconds\n",
    "            end_time = start_time + splits_length_seconds\n",
    "            start_index = i * split_length_ms\n",
    "            end_index = start_index + split_length_ms\n",
    "            \n",
    "            split = sound[start_index:end_index]\n",
    "            split_video_name = f\"{basename_without_ext}_split_{start_time}-{end_time}.wav\"\n",
    "            \n",
    "            path = f\"{folder_containing_full_videos}/{split_folder_name}/{split_video_name}\"\n",
    "            \n",
    "            split.export(path, format='wav', bitrate=\"768000\")\n",
    "            i = i + 1"
   ]
  },
  {
   "cell_type": "markdown",
   "id": "ae3ee1bc",
   "metadata": {},
   "source": [
    "## Get dataframes\n"
   ]
  },
  {
   "cell_type": "code",
   "execution_count": 52,
   "id": "79da0104",
   "metadata": {},
   "outputs": [],
   "source": [
    "def get_dataframe_with_predictions(folder_containing_splits):\n",
    "    \n",
    "    folder_name = os.getcwd() + f\"\\\\{folder_containing_full_videos}\\\\\" + folder_containing_splits\n",
    "    print(\"processing \" + folder_name)\n",
    "    df_emotions = pd.DataFrame(columns=['file_name', 'emotion', 'start_time', 'emotion_class', 'confidence'])\n",
    "\n",
    "    for file in os.listdir(folder_name):\n",
    "        file_name = os.fsdecode(file)\n",
    "        path = folder_name + \"\\\\\" + file_name\n",
    "        features = extract_feature(path)\n",
    "        features = np.expand_dims(features, axis=1)\n",
    "        features = np.expand_dims(features, axis=0)\n",
    "        features = features.astype(np.float32)\n",
    "\n",
    "        start_time = file_name.split('_')[len(file_name.split('_'))-1].split('-')[0]\n",
    "\n",
    "        predic = model.predict(features)\n",
    "        predic_confidence = float(np.amax(predic,1)[0])\n",
    "\n",
    "        emotion = category_to_emotion[np.argmax(predic)]\n",
    "        emotion_class = emotions_dict[emotion]\n",
    "\n",
    "\n",
    "        new_row = {'file_name': file_name,\n",
    "                   'emotion': emotion,\n",
    "                  'start_time': int(start_time),\n",
    "                  'emotion_class': emotion_class,\n",
    "                  'confidence': predic_confidence}\n",
    "        df_emotions = df_emotions.append(new_row, ignore_index=True)\n",
    "\n",
    "    df_emotions.sort_values(by='start_time', inplace=True)\n",
    "    return df_emotions"
   ]
  },
  {
   "cell_type": "code",
   "execution_count": 53,
   "id": "43a2b9bf",
   "metadata": {
    "scrolled": true
   },
   "outputs": [
    {
     "name": "stdout",
     "output_type": "stream",
     "text": [
      "processing D:\\gitProjects\\ids-project\\data-analysis\\youtube-videos/Essence-of-Calculus\\Derivative formulas through geometry  Chapter 3 Essence of calculus_1949212_45000_413_split\n",
      "prediction-data/Derivative formulas through geometry  Chapter 3 Essence of calculus_1949212_45000_413.csv\n",
      "processing D:\\gitProjects\\ids-project\\data-analysis\\youtube-videos/Essence-of-Calculus\\Higher order derivatives  Chapter 10 Essence of calculus_492881_10000_70_split\n",
      "prediction-data/Higher order derivatives  Chapter 10 Essence of calculus_492881_10000_70.csv\n",
      "processing D:\\gitProjects\\ids-project\\data-analysis\\youtube-videos/Essence-of-Calculus\\Implicit differentiation whats going on here  Chapter 6 Essence of calculus_1249073_25000_309_split\n",
      "prediction-data/Implicit differentiation whats going on here  Chapter 6 Essence of calculus_1249073_25000_309.csv\n",
      "processing D:\\gitProjects\\ids-project\\data-analysis\\youtube-videos/Essence-of-Calculus\\Integration and the fundamental theorem of calculus  Chapter 8 Essence of calculus_1263606_27000_287_split\n",
      "prediction-data/Integration and the fundamental theorem of calculus  Chapter 8 Essence of calculus_1263606_27000_287.csv\n",
      "processing D:\\gitProjects\\ids-project\\data-analysis\\youtube-videos/Essence-of-Calculus\\Limits LHôpitals rule and epsilon delta definitions  Chapter 7 Essence of calculus_1211802_28000_291_split\n",
      "prediction-data/Limits LHôpitals rule and epsilon delta definitions  Chapter 7 Essence of calculus_1211802_28000_291.csv\n",
      "processing D:\\gitProjects\\ids-project\\data-analysis\\youtube-videos/Essence-of-Calculus\\Taylor series  Chapter 11 Essence of calculus_2424018_68000_498_split\n",
      "prediction-data/Taylor series  Chapter 11 Essence of calculus_2424018_68000_498.csv\n",
      "processing D:\\gitProjects\\ids-project\\data-analysis\\youtube-videos/Essence-of-Calculus\\The essence of calculus_5471134_154000_1200_split\n",
      "prediction-data/The essence of calculus_5471134_154000_1200.csv\n",
      "processing D:\\gitProjects\\ids-project\\data-analysis\\youtube-videos/Essence-of-Calculus\\The other way to visualize derivatives  Chapter 2 Essence of calculus_3056468_75000_1200_split\n",
      "prediction-data/The other way to visualize derivatives  Chapter 2 Essence of calculus_3056468_75000_1200.csv\n",
      "processing D:\\gitProjects\\ids-project\\data-analysis\\youtube-videos/Essence-of-Calculus\\The paradox of the derivative  Chapter 2 Essence of calculus_2295963_58000_619_split\n",
      "prediction-data/The paradox of the derivative  Chapter 2 Essence of calculus_2295963_58000_619.csv\n",
      "processing D:\\gitProjects\\ids-project\\data-analysis\\youtube-videos/Essence-of-Calculus\\Visualizing the chain rule and product rule  Chapter 4 Essence of calculus_1166440_27000_234_split\n",
      "prediction-data/Visualizing the chain rule and product rule  Chapter 4 Essence of calculus_1166440_27000_234.csv\n",
      "processing D:\\gitProjects\\ids-project\\data-analysis\\youtube-videos/Essence-of-Calculus\\What does area have to do with slope  Chapter 9 Essence of calculus_926703_21000_246_split\n",
      "prediction-data/What does area have to do with slope  Chapter 9 Essence of calculus_926703_21000_246.csv\n",
      "processing D:\\gitProjects\\ids-project\\data-analysis\\youtube-videos/Essence-of-Calculus\\Whats so special about Eulers number e  Chapter 5 Essence of calculus_2321262_53000_626_split\n",
      "prediction-data/Whats so special about Eulers number e  Chapter 5 Essence of calculus_2321262_53000_626.csv\n"
     ]
    }
   ],
   "source": [
    "splits_dir = os.getcwd() + f\"\\\\{folder_containing_full_videos}\"\n",
    "\n",
    "meta_data_dict = {}\n",
    "\n",
    "for root, subdirectories, files in os.walk(splits_dir):\n",
    "    for subdirectory in subdirectories:\n",
    "        folder_name = splits_dir + f\"\\\\{subdirectory}\"\n",
    "        df = get_dataframe_with_predictions(subdirectory)\n",
    "        \n",
    "        csv_name = '_'.join(subdirectory.split(\"_\")[0:-1])\n",
    "        df_path = data_output_folder_name + f\"/{csv_name}.csv\"\n",
    "        print(df_path)\n",
    "        df.to_csv(df_path, index=False)"
   ]
  },
  {
   "cell_type": "code",
   "execution_count": null,
   "id": "6a38ed6f",
   "metadata": {},
   "outputs": [],
   "source": [
    "\n",
    "        "
   ]
  },
  {
   "cell_type": "code",
   "execution_count": null,
   "id": "78381ab0",
   "metadata": {},
   "outputs": [],
   "source": []
  },
  {
   "cell_type": "code",
   "execution_count": null,
   "id": "6ed25ecd",
   "metadata": {},
   "outputs": [],
   "source": []
  }
 ],
 "metadata": {
  "kernelspec": {
   "display_name": "Python 3 (ipykernel)",
   "language": "python",
   "name": "python3"
  },
  "language_info": {
   "codemirror_mode": {
    "name": "ipython",
    "version": 3
   },
   "file_extension": ".py",
   "mimetype": "text/x-python",
   "name": "python",
   "nbconvert_exporter": "python",
   "pygments_lexer": "ipython3",
   "version": "3.8.8"
  }
 },
 "nbformat": 4,
 "nbformat_minor": 5
}
